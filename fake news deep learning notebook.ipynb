{
 "cells": [
  {
   "cell_type": "code",
   "execution_count": 2,
   "id": "16729a50-47e7-4f3b-83ad-3d97154926cd",
   "metadata": {},
   "outputs": [],
   "source": [
    "import time\n",
    "import pandas as pd\n",
    "import numpy as np\n",
    "import re\n",
    "import glob\n",
    "import torch\n",
    "import itertools\n",
    "import torch.nn as nn\n",
    "import torch.optim as optim\n",
    "import torch.nn.functional as F\n",
    "import pandas as pd\n",
    "from torch.utils.data import Dataset, DataLoader\n",
    "#from keras.preprocessing.text import Tokenizer\n",
    "from keras.preprocessing.sequence import pad_sequences\n",
    "from sklearn import preprocessing\n",
    "from numpy import zeros\n",
    "import tensorflow as tf\n",
    "from tensorflow.keras.preprocessing.text import Tokenizer"
   ]
  },
  {
   "cell_type": "code",
   "execution_count": 3,
   "id": "4aedf9e5-756d-40af-a7e2-a1100a054b97",
   "metadata": {},
   "outputs": [
    {
     "name": "stderr",
     "output_type": "stream",
     "text": [
      "C:\\Users\\Lakys\\AppData\\Local\\Temp\\ipykernel_1864\\1704981109.py:1: DtypeWarning: Columns (24,25,26,27,28,29,30,31,32,33,34,35,36,37,38,39,40,41,42,43,44,45,46,47,48,49,50,51,52,53,54,55,56,57,58,59,60,61,62,63,64,65,66,67,68,69,70,71,72,73,74,75,76,77,78,79,80,81,82,83,84,85,86,87,88,89,90,91,92,93,94,95,96,97,98,99,100,101,102,103,104,105,106,107,108,109,110,111,112,113,114,115,116,117,118,119,120,121,122,123,124,125,126,127,128,129,130,131,132,133,134,135,136,137,138,139,140) have mixed types. Specify dtype option on import or set low_memory=False.\n",
      "  data2=pd.read_csv('news.csv')\n"
     ]
    },
    {
     "data": {
      "text/html": [
       "<div>\n",
       "<style scoped>\n",
       "    .dataframe tbody tr th:only-of-type {\n",
       "        vertical-align: middle;\n",
       "    }\n",
       "\n",
       "    .dataframe tbody tr th {\n",
       "        vertical-align: top;\n",
       "    }\n",
       "\n",
       "    .dataframe thead th {\n",
       "        text-align: right;\n",
       "    }\n",
       "</style>\n",
       "<table border=\"1\" class=\"dataframe\">\n",
       "  <thead>\n",
       "    <tr style=\"text-align: right;\">\n",
       "      <th></th>\n",
       "      <th>Unnamed: 0</th>\n",
       "      <th>title</th>\n",
       "      <th>text</th>\n",
       "      <th>label</th>\n",
       "      <th>Unnamed: 4</th>\n",
       "      <th>Unnamed: 5</th>\n",
       "      <th>Unnamed: 6</th>\n",
       "      <th>Unnamed: 7</th>\n",
       "      <th>Unnamed: 8</th>\n",
       "      <th>Unnamed: 9</th>\n",
       "      <th>...</th>\n",
       "      <th>Unnamed: 131</th>\n",
       "      <th>Unnamed: 132</th>\n",
       "      <th>Unnamed: 133</th>\n",
       "      <th>Unnamed: 134</th>\n",
       "      <th>Unnamed: 135</th>\n",
       "      <th>Unnamed: 136</th>\n",
       "      <th>Unnamed: 137</th>\n",
       "      <th>Unnamed: 138</th>\n",
       "      <th>Unnamed: 139</th>\n",
       "      <th>Unnamed: 140</th>\n",
       "    </tr>\n",
       "  </thead>\n",
       "  <tbody>\n",
       "    <tr>\n",
       "      <th>0</th>\n",
       "      <td>8476</td>\n",
       "      <td>You Can Smell Hillary’s Fear</td>\n",
       "      <td>Daniel Greenfield, a Shillman Journalism Fello...</td>\n",
       "      <td>FAKE</td>\n",
       "      <td>NaN</td>\n",
       "      <td>NaN</td>\n",
       "      <td>NaN</td>\n",
       "      <td>NaN</td>\n",
       "      <td>NaN</td>\n",
       "      <td>NaN</td>\n",
       "      <td>...</td>\n",
       "      <td>NaN</td>\n",
       "      <td>NaN</td>\n",
       "      <td>NaN</td>\n",
       "      <td>NaN</td>\n",
       "      <td>NaN</td>\n",
       "      <td>NaN</td>\n",
       "      <td>NaN</td>\n",
       "      <td>NaN</td>\n",
       "      <td>NaN</td>\n",
       "      <td>NaN</td>\n",
       "    </tr>\n",
       "    <tr>\n",
       "      <th>1</th>\n",
       "      <td>10294</td>\n",
       "      <td>Watch The Exact Moment Paul Ryan Committed Pol...</td>\n",
       "      <td>Google Pinterest Digg Linkedin Reddit Stumbleu...</td>\n",
       "      <td>FAKE</td>\n",
       "      <td>NaN</td>\n",
       "      <td>NaN</td>\n",
       "      <td>NaN</td>\n",
       "      <td>NaN</td>\n",
       "      <td>NaN</td>\n",
       "      <td>NaN</td>\n",
       "      <td>...</td>\n",
       "      <td>NaN</td>\n",
       "      <td>NaN</td>\n",
       "      <td>NaN</td>\n",
       "      <td>NaN</td>\n",
       "      <td>NaN</td>\n",
       "      <td>NaN</td>\n",
       "      <td>NaN</td>\n",
       "      <td>NaN</td>\n",
       "      <td>NaN</td>\n",
       "      <td>NaN</td>\n",
       "    </tr>\n",
       "    <tr>\n",
       "      <th>2</th>\n",
       "      <td>3608</td>\n",
       "      <td>Kerry to go to Paris in gesture of sympathy</td>\n",
       "      <td>U.S. Secretary of State John F. Kerry said Mon...</td>\n",
       "      <td>REAL</td>\n",
       "      <td>NaN</td>\n",
       "      <td>NaN</td>\n",
       "      <td>NaN</td>\n",
       "      <td>NaN</td>\n",
       "      <td>NaN</td>\n",
       "      <td>NaN</td>\n",
       "      <td>...</td>\n",
       "      <td>NaN</td>\n",
       "      <td>NaN</td>\n",
       "      <td>NaN</td>\n",
       "      <td>NaN</td>\n",
       "      <td>NaN</td>\n",
       "      <td>NaN</td>\n",
       "      <td>NaN</td>\n",
       "      <td>NaN</td>\n",
       "      <td>NaN</td>\n",
       "      <td>NaN</td>\n",
       "    </tr>\n",
       "    <tr>\n",
       "      <th>3</th>\n",
       "      <td>10142</td>\n",
       "      <td>Bernie supporters on Twitter erupt in anger ag...</td>\n",
       "      <td>— Kaydee King (@KaydeeKing) November 9, 2016 T...</td>\n",
       "      <td>FAKE</td>\n",
       "      <td>NaN</td>\n",
       "      <td>NaN</td>\n",
       "      <td>NaN</td>\n",
       "      <td>NaN</td>\n",
       "      <td>NaN</td>\n",
       "      <td>NaN</td>\n",
       "      <td>...</td>\n",
       "      <td>NaN</td>\n",
       "      <td>NaN</td>\n",
       "      <td>NaN</td>\n",
       "      <td>NaN</td>\n",
       "      <td>NaN</td>\n",
       "      <td>NaN</td>\n",
       "      <td>NaN</td>\n",
       "      <td>NaN</td>\n",
       "      <td>NaN</td>\n",
       "      <td>NaN</td>\n",
       "    </tr>\n",
       "    <tr>\n",
       "      <th>4</th>\n",
       "      <td>875</td>\n",
       "      <td>The Battle of New York: Why This Primary Matters</td>\n",
       "      <td>It's primary day in New York and front-runners...</td>\n",
       "      <td>REAL</td>\n",
       "      <td>NaN</td>\n",
       "      <td>NaN</td>\n",
       "      <td>NaN</td>\n",
       "      <td>NaN</td>\n",
       "      <td>NaN</td>\n",
       "      <td>NaN</td>\n",
       "      <td>...</td>\n",
       "      <td>NaN</td>\n",
       "      <td>NaN</td>\n",
       "      <td>NaN</td>\n",
       "      <td>NaN</td>\n",
       "      <td>NaN</td>\n",
       "      <td>NaN</td>\n",
       "      <td>NaN</td>\n",
       "      <td>NaN</td>\n",
       "      <td>NaN</td>\n",
       "      <td>NaN</td>\n",
       "    </tr>\n",
       "  </tbody>\n",
       "</table>\n",
       "<p>5 rows × 141 columns</p>\n",
       "</div>"
      ],
      "text/plain": [
       "  Unnamed: 0                                              title  \\\n",
       "0       8476                       You Can Smell Hillary’s Fear   \n",
       "1      10294  Watch The Exact Moment Paul Ryan Committed Pol...   \n",
       "2       3608        Kerry to go to Paris in gesture of sympathy   \n",
       "3      10142  Bernie supporters on Twitter erupt in anger ag...   \n",
       "4        875   The Battle of New York: Why This Primary Matters   \n",
       "\n",
       "                                                text label Unnamed: 4  \\\n",
       "0  Daniel Greenfield, a Shillman Journalism Fello...  FAKE        NaN   \n",
       "1  Google Pinterest Digg Linkedin Reddit Stumbleu...  FAKE        NaN   \n",
       "2  U.S. Secretary of State John F. Kerry said Mon...  REAL        NaN   \n",
       "3  — Kaydee King (@KaydeeKing) November 9, 2016 T...  FAKE        NaN   \n",
       "4  It's primary day in New York and front-runners...  REAL        NaN   \n",
       "\n",
       "  Unnamed: 5 Unnamed: 6 Unnamed: 7 Unnamed: 8 Unnamed: 9  ... Unnamed: 131  \\\n",
       "0        NaN        NaN        NaN        NaN        NaN  ...          NaN   \n",
       "1        NaN        NaN        NaN        NaN        NaN  ...          NaN   \n",
       "2        NaN        NaN        NaN        NaN        NaN  ...          NaN   \n",
       "3        NaN        NaN        NaN        NaN        NaN  ...          NaN   \n",
       "4        NaN        NaN        NaN        NaN        NaN  ...          NaN   \n",
       "\n",
       "  Unnamed: 132 Unnamed: 133 Unnamed: 134 Unnamed: 135 Unnamed: 136  \\\n",
       "0          NaN          NaN          NaN          NaN          NaN   \n",
       "1          NaN          NaN          NaN          NaN          NaN   \n",
       "2          NaN          NaN          NaN          NaN          NaN   \n",
       "3          NaN          NaN          NaN          NaN          NaN   \n",
       "4          NaN          NaN          NaN          NaN          NaN   \n",
       "\n",
       "  Unnamed: 137 Unnamed: 138 Unnamed: 139 Unnamed: 140  \n",
       "0          NaN          NaN          NaN          NaN  \n",
       "1          NaN          NaN          NaN          NaN  \n",
       "2          NaN          NaN          NaN          NaN  \n",
       "3          NaN          NaN          NaN          NaN  \n",
       "4          NaN          NaN          NaN          NaN  \n",
       "\n",
       "[5 rows x 141 columns]"
      ]
     },
     "execution_count": 3,
     "metadata": {},
     "output_type": "execute_result"
    }
   ],
   "source": [
    "data2=pd.read_csv('news.csv')\n",
    "data2.head()"
   ]
  },
  {
   "cell_type": "code",
   "execution_count": 4,
   "id": "71a6f0d9-8986-47c9-8602-52a3320e0a29",
   "metadata": {},
   "outputs": [
    {
     "data": {
      "text/html": [
       "<div>\n",
       "<style scoped>\n",
       "    .dataframe tbody tr th:only-of-type {\n",
       "        vertical-align: middle;\n",
       "    }\n",
       "\n",
       "    .dataframe tbody tr th {\n",
       "        vertical-align: top;\n",
       "    }\n",
       "\n",
       "    .dataframe thead th {\n",
       "        text-align: right;\n",
       "    }\n",
       "</style>\n",
       "<table border=\"1\" class=\"dataframe\">\n",
       "  <thead>\n",
       "    <tr style=\"text-align: right;\">\n",
       "      <th></th>\n",
       "      <th>text</th>\n",
       "      <th>label</th>\n",
       "    </tr>\n",
       "  </thead>\n",
       "  <tbody>\n",
       "    <tr>\n",
       "      <th>0</th>\n",
       "      <td>Daniel Greenfield, a Shillman Journalism Fello...</td>\n",
       "      <td>FAKE</td>\n",
       "    </tr>\n",
       "    <tr>\n",
       "      <th>1</th>\n",
       "      <td>Google Pinterest Digg Linkedin Reddit Stumbleu...</td>\n",
       "      <td>FAKE</td>\n",
       "    </tr>\n",
       "    <tr>\n",
       "      <th>2</th>\n",
       "      <td>U.S. Secretary of State John F. Kerry said Mon...</td>\n",
       "      <td>REAL</td>\n",
       "    </tr>\n",
       "    <tr>\n",
       "      <th>3</th>\n",
       "      <td>— Kaydee King (@KaydeeKing) November 9, 2016 T...</td>\n",
       "      <td>FAKE</td>\n",
       "    </tr>\n",
       "    <tr>\n",
       "      <th>4</th>\n",
       "      <td>It's primary day in New York and front-runners...</td>\n",
       "      <td>REAL</td>\n",
       "    </tr>\n",
       "  </tbody>\n",
       "</table>\n",
       "</div>"
      ],
      "text/plain": [
       "                                                text label\n",
       "0  Daniel Greenfield, a Shillman Journalism Fello...  FAKE\n",
       "1  Google Pinterest Digg Linkedin Reddit Stumbleu...  FAKE\n",
       "2  U.S. Secretary of State John F. Kerry said Mon...  REAL\n",
       "3  — Kaydee King (@KaydeeKing) November 9, 2016 T...  FAKE\n",
       "4  It's primary day in New York and front-runners...  REAL"
      ]
     },
     "execution_count": 4,
     "metadata": {},
     "output_type": "execute_result"
    }
   ],
   "source": [
    "data2=pd.concat([pd.Series(data2[\"text\"], name=\"text\"), pd.Series(data2[\"label\"], name=\"label\")], axis=1)\n",
    "data2.head()"
   ]
  },
  {
   "cell_type": "code",
   "execution_count": 5,
   "id": "147fce5d-2f7e-4983-a06f-095dade5e2a2",
   "metadata": {},
   "outputs": [
    {
     "data": {
      "text/plain": [
       "7795"
      ]
     },
     "execution_count": 5,
     "metadata": {},
     "output_type": "execute_result"
    }
   ],
   "source": [
    "len(data2)"
   ]
  },
  {
   "cell_type": "code",
   "execution_count": 6,
   "id": "3237fbf2-801a-43c0-abe5-710a2ca0508d",
   "metadata": {},
   "outputs": [],
   "source": [
    "data3=data2[(data2[\"label\"]==\"FAKE\") | (data2[\"label\"]==\"REAL\")]"
   ]
  },
  {
   "cell_type": "code",
   "execution_count": 7,
   "id": "335a251c-3801-47e7-adb9-efc435ea0d73",
   "metadata": {},
   "outputs": [
    {
     "data": {
      "text/plain": [
       "{'FAKE', 'REAL'}"
      ]
     },
     "execution_count": 7,
     "metadata": {},
     "output_type": "execute_result"
    }
   ],
   "source": [
    "set(list(data3[\"label\"]))"
   ]
  },
  {
   "cell_type": "code",
   "execution_count": 8,
   "id": "b8888b0f-d8ef-4f31-8c36-953e92531253",
   "metadata": {},
   "outputs": [
    {
     "data": {
      "text/plain": [
       "label\n",
       "REAL    3161\n",
       "FAKE    3154\n",
       "Name: count, dtype: int64"
      ]
     },
     "execution_count": 8,
     "metadata": {},
     "output_type": "execute_result"
    }
   ],
   "source": [
    "data3[\"label\"].value_counts()"
   ]
  },
  {
   "cell_type": "code",
   "execution_count": 9,
   "id": "7bbd60f5-ee04-432e-a8c8-9676db924c62",
   "metadata": {},
   "outputs": [],
   "source": [
    "le = preprocessing.LabelEncoder()\n",
    "labe=data3[\"label\"]\n",
    "\n",
    "labels_encoded=le.fit(labe)\n",
    "labels_=le.transform(labe)"
   ]
  },
  {
   "cell_type": "code",
   "execution_count": 10,
   "id": "50016db0-235c-414a-abd1-74c7036d0ac0",
   "metadata": {},
   "outputs": [
    {
     "data": {
      "text/plain": [
       "[('FAKE', 0), ('FAKE', 0), ('REAL', 1), ('FAKE', 0), ('REAL', 1)]"
      ]
     },
     "execution_count": 10,
     "metadata": {},
     "output_type": "execute_result"
    }
   ],
   "source": [
    "list(zip(data3[\"label\"][:5], labels_[:5]))"
   ]
  },
  {
   "cell_type": "code",
   "execution_count": 11,
   "id": "998e3ede-e984-4035-9ba1-de8bea3e2cb2",
   "metadata": {},
   "outputs": [
    {
     "data": {
      "text/plain": [
       "{0, 1}"
      ]
     },
     "execution_count": 11,
     "metadata": {},
     "output_type": "execute_result"
    }
   ],
   "source": [
    "set(labels_)"
   ]
  },
  {
   "cell_type": "code",
   "execution_count": 12,
   "id": "7f2b8b13-418e-44d4-bfeb-ac12a3096a4b",
   "metadata": {},
   "outputs": [],
   "source": [
    "text_for_this=[]\n",
    "for i in data3[\"text\"]:\n",
    "    text_for_this.append(' '.join(re.findall(r'[a-zA-Z]+', str(i))))"
   ]
  },
  {
   "cell_type": "code",
   "execution_count": 13,
   "id": "66c42ef2-92df-4a38-b746-04b4d61136a5",
   "metadata": {},
   "outputs": [],
   "source": [
    "#bytestring_=[i.encode() for i in text_for_this]"
   ]
  },
  {
   "cell_type": "code",
   "execution_count": 14,
   "id": "59398b96-5496-462d-b19d-52a228df703a",
   "metadata": {},
   "outputs": [],
   "source": [
    "datalist1=glob.glob('glove_file_*')"
   ]
  },
  {
   "cell_type": "code",
   "execution_count": 15,
   "id": "365f01f3-fdb8-465f-aa8b-c94171d4eab4",
   "metadata": {},
   "outputs": [],
   "source": [
    "combined_datalist=[pd.read_csv(i) for i in datalist1]\n",
    "words_=list(itertools.chain.from_iterable([list(i.word) for i in combined_datalist]))\n",
    "values_=list(itertools.chain.from_iterable([list(i.values_) for i in combined_datalist]))\n",
    "values_=[np.array(re.findall(r'[\\d\\.]{1,8}',str(i)),dtype='float32') for i in values_]\n",
    "values_2=[i[:100] for i in values_]\n",
    "embed_index=dict(zip(words_,values_2))"
   ]
  },
  {
   "cell_type": "code",
   "execution_count": 16,
   "id": "a51ce96a-df2c-42fe-8079-7024bd68fc1d",
   "metadata": {},
   "outputs": [],
   "source": [
    "word_tokenizer = Tokenizer()"
   ]
  },
  {
   "cell_type": "code",
   "execution_count": 17,
   "id": "cd6b239d-6811-4706-954c-d6107c2f3a24",
   "metadata": {},
   "outputs": [],
   "source": [
    "word_tokenizer.fit_on_texts(text_for_this)"
   ]
  },
  {
   "cell_type": "code",
   "execution_count": 18,
   "id": "3c7f0e15-677b-472b-a9c8-34d194b1d9bb",
   "metadata": {},
   "outputs": [],
   "source": [
    "embedded_skill=word_tokenizer.texts_to_sequences(text_for_this)"
   ]
  },
  {
   "cell_type": "code",
   "execution_count": 19,
   "id": "cd777619-9c97-4fce-90ea-fc34174ca7f2",
   "metadata": {},
   "outputs": [],
   "source": [
    "vocab_length = len(word_tokenizer.word_index) + 1\n",
    "\n",
    "embedding_matrix = zeros((vocab_length, 100))\n",
    "for word, index in word_tokenizer.word_index.items():\n",
    "    embedding_vector = embed_index.get(word)\n",
    "    if embedding_vector is not None:\n",
    "        embedding_matrix[index] = embedding_vector\n",
    "\n",
    "len_sent=list([len(i) for i in embedded_skill])\n",
    "length_long_sentence=max(len_sent)\n",
    "\n",
    "padded_sentences = pad_sequences(embedded_skill, length_long_sentence, padding='post')\n",
    "\n",
    "validation_split=.2\n",
    "indices=np.arange(np.array(padded_sentences,dtype=object).shape[0])\n",
    "np.random.shuffle(indices)   \n",
    "\n",
    "data_rand=padded_sentences[indices]"
   ]
  },
  {
   "cell_type": "code",
   "execution_count": 20,
   "id": "f31079d2-a154-45b9-ae95-99139db70bc9",
   "metadata": {},
   "outputs": [],
   "source": [
    "labels_rand=np.array(labels_)[indices]"
   ]
  },
  {
   "cell_type": "code",
   "execution_count": 21,
   "id": "6b94b5e1-d0b8-4833-a546-6a6805b4c367",
   "metadata": {},
   "outputs": [],
   "source": [
    "val_sample=int(validation_split * data3.shape[0])"
   ]
  },
  {
   "cell_type": "code",
   "execution_count": 22,
   "id": "d432ef28-23de-47f0-85c4-1a528a8aff0a",
   "metadata": {},
   "outputs": [],
   "source": [
    "X_train=data_rand[:-val_sample]\n",
    "y_train=labels_rand[:-val_sample]\n",
    "X_test=data_rand[-val_sample:]\n",
    "y_test=labels_rand[-val_sample:]"
   ]
  },
  {
   "cell_type": "code",
   "execution_count": 23,
   "id": "00a5a099-0331-4f2d-9f1f-e1d460a9ab17",
   "metadata": {},
   "outputs": [],
   "source": [
    "x_train = torch.tensor(X_train, dtype=torch.long)\n",
    "y_train = torch.tensor(y_train, dtype=torch.long)\n",
    "x_cv = torch.tensor(X_test, dtype=torch.long)\n",
    "y_cv = torch.tensor(y_test, dtype=torch.long)\n",
    "\n",
    "train = torch.utils.data.TensorDataset(x_train, y_train)\n",
    "valid = torch.utils.data.TensorDataset(x_cv, y_cv)\n",
    "\n",
    "train_loader = torch.utils.data.DataLoader(train, batch_size=32, shuffle=True)\n",
    "valid_loader = torch.utils.data.DataLoader(valid, batch_size=32, shuffle=False)"
   ]
  },
  {
   "cell_type": "code",
   "execution_count": 24,
   "id": "ac9ad08a-5275-4fed-a61d-5df2ebef4819",
   "metadata": {},
   "outputs": [],
   "source": [
    "class BiLSTM(nn.Module):\n",
    "  def __init__(self):\n",
    "    super(BiLSTM, self).__init__()\n",
    "    self.hidden_size = 5\n",
    "    drp = 0.4\n",
    "    n_classes = len(le.classes_)\n",
    "    self.embedding = nn.Embedding(max_features, embed_size)\n",
    "    self.embedding.weight = nn.Parameter(torch.tensor(embedding_matrix, dtype=torch.float32))\n",
    "    self.embedding.weight.requires_grad = True\n",
    "    self.lstm = nn.LSTM(embed_size, self.hidden_size, bidirectional=True, batch_first=True)\n",
    "    self.linear = nn.Linear(self.hidden_size*4 , 1, bias=False)\n",
    "    self.relu = nn.ReLU()\n",
    "    self.out = nn.Linear(1, n_classes, bias=False)\n",
    "\n",
    "\n",
    "  def forward(self, x):\n",
    "    h_embedding = self.embedding(x)\n",
    "    h_lstm, _ = self.lstm(h_embedding)\n",
    "    avg_pool = torch.mean(h_lstm, 1)\n",
    "    max_pool, _ = torch.max(h_lstm, 1)\n",
    "    conc = torch.cat(( avg_pool, max_pool), 1)\n",
    "    conc = self.relu(self.linear(conc))\n",
    "    out = self.out(conc)\n",
    "    return out"
   ]
  },
  {
   "cell_type": "code",
   "execution_count": 25,
   "id": "caa8de6d-c7a5-4ec2-ac93-62c93bf8248e",
   "metadata": {},
   "outputs": [
    {
     "data": {
      "text/plain": [
       "BiLSTM(\n",
       "  (embedding): Embedding(63464, 100)\n",
       "  (lstm): LSTM(100, 5, batch_first=True, bidirectional=True)\n",
       "  (linear): Linear(in_features=20, out_features=1, bias=False)\n",
       "  (relu): ReLU()\n",
       "  (out): Linear(in_features=1, out_features=2, bias=False)\n",
       ")"
      ]
     },
     "execution_count": 25,
     "metadata": {},
     "output_type": "execute_result"
    }
   ],
   "source": [
    "embed_size=100\n",
    "max_features=vocab_length\n",
    "n_epochs = 11\n",
    "model = BiLSTM()\n",
    "loss_fn = nn.CrossEntropyLoss(reduction='mean')\n",
    "optimizer = torch.optim.AdamW(filter(lambda p: p.requires_grad, model.parameters()), lr=0.001, weight_decay=.0001)\n",
    "model.cpu()"
   ]
  },
  {
   "cell_type": "code",
   "execution_count": 26,
   "id": "11b13f97-8a1a-4bf3-8314-cc1945661395",
   "metadata": {},
   "outputs": [
    {
     "name": "stdout",
     "output_type": "stream",
     "text": [
      "epoch:0, average validation loss:0.682505376636982, elapsed time:74.93276000022888\n",
      "epoch:1, average validation loss:0.6029398962855339, elapsed time:70.3253698348999\n",
      "epoch:2, average validation loss:0.5518989183008671, elapsed time:68.00787401199341\n",
      "epoch:3, average validation loss:0.5155128121376036, elapsed time:66.31374740600586\n",
      "epoch:4, average validation loss:0.5111503198742866, elapsed time:66.59367680549622\n",
      "epoch:5, average validation loss:0.5058595940470696, elapsed time:67.01465582847595\n",
      "epoch:6, average validation loss:0.4965121529996395, elapsed time:66.36403131484985\n",
      "epoch:7, average validation loss:0.4982491992413997, elapsed time:66.68814969062805\n",
      "epoch:8, average validation loss:0.5293045863509178, elapsed time:66.83333706855774\n",
      "epoch:9, average validation loss:0.4955587893724441, elapsed time:67.79288172721863\n",
      "epoch:10, average validation loss:0.4963989086449146, elapsed time:67.99239325523376\n"
     ]
    }
   ],
   "source": [
    "output=[]\n",
    "val_preds_=[]\n",
    "for epoch in range(n_epochs):\n",
    "    start_time = time.time()\n",
    "    \n",
    "    model.train()\n",
    "    \n",
    "    avg_loss = 0.  \n",
    "    for i, (x_batch, y_batch) in enumerate(train_loader):        \n",
    "      y_pred = model(x_batch)      \n",
    "      loss = loss_fn(y_pred, y_batch)\n",
    "      optimizer.zero_grad()\n",
    "      loss.backward()\n",
    "      optimizer.step()\n",
    "      avg_loss += loss.item() / len(train_loader)\n",
    "      \n",
    "    \n",
    "    avg_val_loss = 0.\n",
    "    val_preds=[]\n",
    "    val_preds_.append(val_preds)\n",
    "    for i, (x_batch, y_batch) in enumerate(valid_loader):\n",
    "        \n",
    "      y_pred = model(x_batch).detach()\n",
    "      avg_val_loss += loss_fn(y_pred, y_batch).item() / len(valid_loader)\n",
    "      val_preds.append(F.sigmoid(y_pred).cpu().numpy())\n",
    "\n",
    "    elapsed_time = time.time() - start_time\n",
    "\n",
    "    print(f'epoch:{epoch}, average validation loss:{avg_val_loss}, elapsed time:{elapsed_time}')\n",
    "    output.append('Epoch {}/{} \\t loss={:.4f} \\t val_loss={:.4f}  \\t time={:.2f}s'.format(\n",
    "                epoch + 1, n_epochs, avg_loss, avg_val_loss, elapsed_time))"
   ]
  },
  {
   "cell_type": "code",
   "execution_count": 27,
   "id": "d34a36b6-fba2-4c7b-8a1f-e70c95174156",
   "metadata": {},
   "outputs": [],
   "source": [
    "val_accuracy=[]\n",
    "for i in range(len(val_preds_)):\n",
    "    val_cov_arr=[]\n",
    "    for p in range(len(val_preds_[i])):\n",
    "        val_cov_=[]\n",
    "        length=len(val_cov_)\n",
    "        for s in val_preds_[i][p]:\n",
    "            val_cov=[]\n",
    "            for l in s:\n",
    "                if l>.6:\n",
    "                    val_cov.append(int(0))\n",
    "                else:\n",
    "                    val_cov.append(int(1))\n",
    "            val_cov_.append(val_cov[np.array(val_cov).argmax()])\n",
    "        val_cov_arr.append(np.sum(np.array(val_cov_))/len(val_cov_))\n",
    "    val_accuracy.append(np.mean(val_cov_arr))        "
   ]
  },
  {
   "cell_type": "code",
   "execution_count": 28,
   "id": "bb8c9ac5-94a3-478e-b797-5c72c4eed3b5",
   "metadata": {},
   "outputs": [
    {
     "data": {
      "text/html": [
       "<div>\n",
       "<style scoped>\n",
       "    .dataframe tbody tr th:only-of-type {\n",
       "        vertical-align: middle;\n",
       "    }\n",
       "\n",
       "    .dataframe tbody tr th {\n",
       "        vertical-align: top;\n",
       "    }\n",
       "\n",
       "    .dataframe thead th {\n",
       "        text-align: right;\n",
       "    }\n",
       "</style>\n",
       "<table border=\"1\" class=\"dataframe\">\n",
       "  <thead>\n",
       "    <tr style=\"text-align: right;\">\n",
       "      <th></th>\n",
       "      <th>epoch</th>\n",
       "      <th>loss</th>\n",
       "      <th>validation_loss</th>\n",
       "      <th>time</th>\n",
       "      <th>validation_accuracy</th>\n",
       "    </tr>\n",
       "  </thead>\n",
       "  <tbody>\n",
       "    <tr>\n",
       "      <th>0</th>\n",
       "      <td>Epoch 1/11</td>\n",
       "      <td>loss=0.6894</td>\n",
       "      <td>val_loss=0.6825</td>\n",
       "      <td>time=74.93s</td>\n",
       "      <td>1.0</td>\n",
       "    </tr>\n",
       "    <tr>\n",
       "      <th>1</th>\n",
       "      <td>Epoch 2/11</td>\n",
       "      <td>loss=0.6437</td>\n",
       "      <td>val_loss=0.6029</td>\n",
       "      <td>time=70.33s</td>\n",
       "      <td>1.0</td>\n",
       "    </tr>\n",
       "    <tr>\n",
       "      <th>2</th>\n",
       "      <td>Epoch 3/11</td>\n",
       "      <td>loss=0.5409</td>\n",
       "      <td>val_loss=0.5519</td>\n",
       "      <td>time=68.01s</td>\n",
       "      <td>1.0</td>\n",
       "    </tr>\n",
       "    <tr>\n",
       "      <th>3</th>\n",
       "      <td>Epoch 4/11</td>\n",
       "      <td>loss=0.4791</td>\n",
       "      <td>val_loss=0.5155</td>\n",
       "      <td>time=66.31s</td>\n",
       "      <td>1.0</td>\n",
       "    </tr>\n",
       "    <tr>\n",
       "      <th>4</th>\n",
       "      <td>Epoch 5/11</td>\n",
       "      <td>loss=0.4297</td>\n",
       "      <td>val_loss=0.5112</td>\n",
       "      <td>time=66.59s</td>\n",
       "      <td>1.0</td>\n",
       "    </tr>\n",
       "    <tr>\n",
       "      <th>5</th>\n",
       "      <td>Epoch 6/11</td>\n",
       "      <td>loss=0.4029</td>\n",
       "      <td>val_loss=0.5059</td>\n",
       "      <td>time=67.01s</td>\n",
       "      <td>1.0</td>\n",
       "    </tr>\n",
       "    <tr>\n",
       "      <th>6</th>\n",
       "      <td>Epoch 7/11</td>\n",
       "      <td>loss=0.3842</td>\n",
       "      <td>val_loss=0.4965</td>\n",
       "      <td>time=66.36s</td>\n",
       "      <td>1.0</td>\n",
       "    </tr>\n",
       "    <tr>\n",
       "      <th>7</th>\n",
       "      <td>Epoch 8/11</td>\n",
       "      <td>loss=0.3776</td>\n",
       "      <td>val_loss=0.4982</td>\n",
       "      <td>time=66.69s</td>\n",
       "      <td>1.0</td>\n",
       "    </tr>\n",
       "    <tr>\n",
       "      <th>8</th>\n",
       "      <td>Epoch 9/11</td>\n",
       "      <td>loss=0.3700</td>\n",
       "      <td>val_loss=0.5293</td>\n",
       "      <td>time=66.83s</td>\n",
       "      <td>1.0</td>\n",
       "    </tr>\n",
       "    <tr>\n",
       "      <th>9</th>\n",
       "      <td>Epoch 10/11</td>\n",
       "      <td>loss=0.3641</td>\n",
       "      <td>val_loss=0.4956</td>\n",
       "      <td>time=67.79s</td>\n",
       "      <td>1.0</td>\n",
       "    </tr>\n",
       "    <tr>\n",
       "      <th>10</th>\n",
       "      <td>Epoch 11/11</td>\n",
       "      <td>loss=0.3658</td>\n",
       "      <td>val_loss=0.4964</td>\n",
       "      <td>time=67.99s</td>\n",
       "      <td>1.0</td>\n",
       "    </tr>\n",
       "  </tbody>\n",
       "</table>\n",
       "</div>"
      ],
      "text/plain": [
       "           epoch           loss     validation_loss          time  \\\n",
       "0    Epoch 1/11    loss=0.6894    val_loss=0.6825     time=74.93s   \n",
       "1    Epoch 2/11    loss=0.6437    val_loss=0.6029     time=70.33s   \n",
       "2    Epoch 3/11    loss=0.5409    val_loss=0.5519     time=68.01s   \n",
       "3    Epoch 4/11    loss=0.4791    val_loss=0.5155     time=66.31s   \n",
       "4    Epoch 5/11    loss=0.4297    val_loss=0.5112     time=66.59s   \n",
       "5    Epoch 6/11    loss=0.4029    val_loss=0.5059     time=67.01s   \n",
       "6    Epoch 7/11    loss=0.3842    val_loss=0.4965     time=66.36s   \n",
       "7    Epoch 8/11    loss=0.3776    val_loss=0.4982     time=66.69s   \n",
       "8    Epoch 9/11    loss=0.3700    val_loss=0.5293     time=66.83s   \n",
       "9   Epoch 10/11    loss=0.3641    val_loss=0.4956     time=67.79s   \n",
       "10  Epoch 11/11    loss=0.3658    val_loss=0.4964     time=67.99s   \n",
       "\n",
       "    validation_accuracy  \n",
       "0                   1.0  \n",
       "1                   1.0  \n",
       "2                   1.0  \n",
       "3                   1.0  \n",
       "4                   1.0  \n",
       "5                   1.0  \n",
       "6                   1.0  \n",
       "7                   1.0  \n",
       "8                   1.0  \n",
       "9                   1.0  \n",
       "10                  1.0  "
      ]
     },
     "execution_count": 28,
     "metadata": {},
     "output_type": "execute_result"
    }
   ],
   "source": [
    "output_df=pd.DataFrame([i.split('\\t') for i in output])\n",
    "output_df[\"validation_accuracy\"]=[round(i,4) for i in val_accuracy]\n",
    "output_df.columns=['epoch','loss','validation_loss','time','validation_accuracy']\n",
    "output_df"
   ]
  },
  {
   "cell_type": "code",
   "execution_count": 29,
   "id": "c4afc59f-9f9e-4503-952e-951b67524adc",
   "metadata": {},
   "outputs": [],
   "source": [
    "test_data=pd.read_csv(\"test.csv\", encoding=\"latin1\")"
   ]
  },
  {
   "cell_type": "code",
   "execution_count": 30,
   "id": "eaead658-780b-4577-93d3-4a1175399a03",
   "metadata": {},
   "outputs": [],
   "source": [
    "text_for_test=[]\n",
    "for i in test_data[\"text\"]:\n",
    "    text_for_test.append(' '.join(re.findall(r'[a-zA-Z]+', str(i))))\n",
    "word_tokenizer = Tokenizer()\n",
    "word_tokenizer.fit_on_texts(text_for_test)\n",
    "embedded_skill=word_tokenizer.texts_to_sequences(text_for_test)\n",
    "\n",
    "vocab_length = len(word_tokenizer.word_index) + 1\n",
    "\n",
    "embedding_matrix = zeros((vocab_length, 100))\n",
    "for word, index in word_tokenizer.word_index.items():\n",
    "    embedding_vector = embed_index.get(word)\n",
    "    if embedding_vector is not None:\n",
    "        embedding_matrix[index] = embedding_vector\n",
    "\n",
    "len_sent=list([len(i) for i in embedded_skill])\n",
    "length_long_sentence=max(len_sent)\n",
    "\n",
    "padded_sentences_ = pad_sequences(embedded_skill, length_long_sentence, padding='post')"
   ]
  },
  {
   "cell_type": "code",
   "execution_count": 31,
   "id": "6ddfe3de-da4a-41d1-8484-c22f28fefb92",
   "metadata": {},
   "outputs": [],
   "source": [
    "test_data1 = torch.tensor(padded_sentences_, dtype=torch.long)\n",
    "test_data_ = torch.utils.data.TensorDataset(test_data1)\n",
    "test_data_loader = torch.utils.data.DataLoader(test_data_, batch_size=32, shuffle=True)"
   ]
  },
  {
   "cell_type": "code",
   "execution_count": 32,
   "id": "e81922fd-be32-4b83-baea-8a347c60e8c5",
   "metadata": {},
   "outputs": [],
   "source": [
    "pred = []\n",
    "model.eval()\n",
    "\n",
    "for inputs in test_data_loader:\n",
    "    y_pred = model(inputs[0]).detach()\n",
    "    pred.append(y_pred)"
   ]
  },
  {
   "cell_type": "code",
   "execution_count": 33,
   "id": "d3547cc5-1e0b-415d-b622-4e2b6aa728cc",
   "metadata": {},
   "outputs": [],
   "source": [
    "prediction_class=[]\n",
    "for i in range(len(pred)):\n",
    "    \n",
    "    for p in range(len(pred[i])):\n",
    "        val_cov_=[]\n",
    "        length=len(val_cov_)\n",
    "        for s in val_preds_[i][p]:\n",
    "            val_cov=[]\n",
    "            \n",
    "            for l in s:\n",
    "                if l>.6:\n",
    "                    val_cov.append(int(0))\n",
    "                else:\n",
    "                    val_cov.append(int(1))\n",
    "        val_cov_.append(val_cov[np.array(val_cov).argmax()])\n",
    "        prediction_class.append(val_cov_)"
   ]
  },
  {
   "cell_type": "code",
   "execution_count": 34,
   "id": "7dba4b70-6f46-478b-b606-fe4a407b10d9",
   "metadata": {},
   "outputs": [],
   "source": [
    "classification_dictionary={1:\"REAL\", 0:\"FAKE\"}"
   ]
  },
  {
   "cell_type": "code",
   "execution_count": 35,
   "id": "9f66d186-beb8-4c22-87bd-019010fc1496",
   "metadata": {},
   "outputs": [],
   "source": [
    "prediction_class=[classification_dictionary[i[0]] for i in prediction_class]"
   ]
  },
  {
   "cell_type": "code",
   "execution_count": 36,
   "id": "10ca9851-001d-4469-b295-fa2022e1a101",
   "metadata": {},
   "outputs": [],
   "source": [
    "test_data[\"Prediction Class\"]=prediction_class"
   ]
  },
  {
   "cell_type": "code",
   "execution_count": 37,
   "id": "860bc012-7e1d-4ce4-afa6-0ab1f1196353",
   "metadata": {},
   "outputs": [
    {
     "data": {
      "text/html": [
       "<div>\n",
       "<style scoped>\n",
       "    .dataframe tbody tr th:only-of-type {\n",
       "        vertical-align: middle;\n",
       "    }\n",
       "\n",
       "    .dataframe tbody tr th {\n",
       "        vertical-align: top;\n",
       "    }\n",
       "\n",
       "    .dataframe thead th {\n",
       "        text-align: right;\n",
       "    }\n",
       "</style>\n",
       "<table border=\"1\" class=\"dataframe\">\n",
       "  <thead>\n",
       "    <tr style=\"text-align: right;\">\n",
       "      <th></th>\n",
       "      <th>text</th>\n",
       "      <th>Prediction Class</th>\n",
       "    </tr>\n",
       "  </thead>\n",
       "  <tbody>\n",
       "    <tr>\n",
       "      <th>0</th>\n",
       "      <td>A roundup of some of the most popular but comp...</td>\n",
       "      <td>REAL</td>\n",
       "    </tr>\n",
       "    <tr>\n",
       "      <th>1</th>\n",
       "      <td>The Biden administration is working on a new d...</td>\n",
       "      <td>REAL</td>\n",
       "    </tr>\n",
       "    <tr>\n",
       "      <th>2</th>\n",
       "      <td>Pope Francis, in the first-ever papal address ...</td>\n",
       "      <td>REAL</td>\n",
       "    </tr>\n",
       "  </tbody>\n",
       "</table>\n",
       "</div>"
      ],
      "text/plain": [
       "                                                text Prediction Class\n",
       "0  A roundup of some of the most popular but comp...             REAL\n",
       "1  The Biden administration is working on a new d...             REAL\n",
       "2  Pope Francis, in the first-ever papal address ...             REAL"
      ]
     },
     "execution_count": 37,
     "metadata": {},
     "output_type": "execute_result"
    }
   ],
   "source": [
    "test_data"
   ]
  },
  {
   "cell_type": "code",
   "execution_count": null,
   "id": "92099d21-3088-4b04-bb1b-07e5c082c6a6",
   "metadata": {},
   "outputs": [],
   "source": []
  }
 ],
 "metadata": {
  "kernelspec": {
   "display_name": "Python 3 (ipykernel)",
   "language": "python",
   "name": "python3"
  },
  "language_info": {
   "codemirror_mode": {
    "name": "ipython",
    "version": 3
   },
   "file_extension": ".py",
   "mimetype": "text/x-python",
   "name": "python",
   "nbconvert_exporter": "python",
   "pygments_lexer": "ipython3",
   "version": "3.12.4"
  }
 },
 "nbformat": 4,
 "nbformat_minor": 5
}
